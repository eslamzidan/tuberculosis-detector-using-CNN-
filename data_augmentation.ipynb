{
 "cells": [
  {
   "cell_type": "markdown",
   "metadata": {},
   "source": [
    "# data augmentation\n",
    "\n"
   ]
  },
  {
   "cell_type": "markdown",
   "metadata": {},
   "source": [
    "An imbalanced data problem: refers to a classification problem in which classes are not equally represented.\n",
    "\n",
    "Use data augmentation to solve imbalanced data problems:\n",
    "\n",
    "tuberculosis class is less than normal class and that make imbalanced data problem,and so the model could not be realistic so may this model wouldn't provide any valuable information for us. data augmentation is one of the techniques to solve imbalanced data problems so in this task I use this technique, data augmentation technique used to expand the size of a training dataset (can make Rotation or flip or crop or scale, etc)\n",
    "\n"
   ]
  },
  {
   "cell_type": "code",
   "execution_count": 1,
   "metadata": {},
   "outputs": [],
   "source": [
    "import pandas as pd \n",
    "import numpy as np\n",
    "from glob import glob\n",
    "\n",
    "import os\n",
    "import matplotlib.pyplot as plt\n",
    "from keras.preprocessing.image import ImageDataGenerator\n",
    "from skimage import io\n",
    "from PIL import Image\n",
    " "
   ]
  },
  {
   "cell_type": "code",
   "execution_count": 5,
   "metadata": {},
   "outputs": [
    {
     "data": {
      "text/plain": [
       "700"
      ]
     },
     "execution_count": 5,
     "metadata": {},
     "output_type": "execute_result"
    }
   ],
   "source": [
    "len(os.listdir(\"data/Tuberculosis\"))\n"
   ]
  },
  {
   "cell_type": "markdown",
   "metadata": {},
   "source": [
    "number of tuberculosis datasets  is 700 so we will increase the dataset for this class to be close to a number of the other class before making model  training "
   ]
  },
  {
   "cell_type": "markdown",
   "metadata": {},
   "source": [
    "by using ImageDataGenerator in keras to make data augmentation , its  paramters  will be \n",
    "       ( rotation_range = 20,\n",
    "        width_shift_range=0.1,\n",
    "        shear_range = 0.1,\n",
    "        zoom_range = 0.1, )\n"
   ]
  },
  {
   "cell_type": "markdown",
   "metadata": {},
   "source": [
    "first, make preprocessing  for images before make augmentation  then call ImageDataGenerator to apply augmentation and save image in other direction  folder"
   ]
  },
  {
   "cell_type": "code",
   "execution_count": 5,
   "metadata": {},
   "outputs": [
    {
     "name": "stdout",
     "output_type": "stream",
     "text": [
      "hel\n",
      "hel\n"
     ]
    }
   ],
   "source": [
    "\n",
    "datagen = ImageDataGenerator(        \n",
    "        rotation_range = 20,\n",
    "        width_shift_range=0.1,\n",
    "        shear_range = 0.1,\n",
    "        zoom_range = 0.1,\n",
    "        horizontal_flip = True,\n",
    ")\n",
    "PATH1 = \"data/tuberculosis/\"\n",
    "SIZE = 512\n",
    "dataset = []\n",
    "dataset1= []\n",
    "\n",
    "for filename in os.listdir(PATH1):\n",
    "\n",
    "    image = Image.open(os.path.join(PATH1, filename)) # images are color images\n",
    "\n",
    "    if image.mode==\"L\":\n",
    "        image_file = image.convert('RGB') # convert image to black and white\n",
    "\n",
    "\n",
    "        image = image_file.resize((SIZE,SIZE)) \n",
    "        dataset.append(np.array(image))\n",
    "    else:\n",
    "\n",
    "        image = image.resize((SIZE,SIZE)) \n",
    "        dataset1.append(np.array(image))\n",
    "        \n",
    "x = np.array(dataset)\n",
    "x1 = np.array(dataset1)\n",
    "\n",
    "i = 0\n",
    "\n",
    "for batch in datagen.flow(x, batch_size=700,\n",
    "                          save_to_dir= \"data/LOW/\",\n",
    "                          save_prefix='dr',\n",
    "                          save_format='png'):    \n",
    "    i += 1  \n",
    "    print(\"hel\")\n",
    "\n",
    "    if i > 0: \n",
    "        break\n",
    "\n",
    "for batch in datagen.flow(x1, batch_size=700,\n",
    "                          save_to_dir= \"data/rgb1/\",\n",
    "                          save_prefix='dr',\n",
    "                          save_format='png'):    \n",
    "    i += 1  \n",
    "    print(\"hel\")\n",
    "\n",
    "    if i > 0: \n",
    "        break\n",
    "\n",
    "\n"
   ]
  },
  {
   "cell_type": "markdown",
   "metadata": {},
   "source": [
    "save the new data in other path and rename it to be fine with tuberculosis class then add it to tuberculosis path"
   ]
  },
  {
   "cell_type": "code",
   "execution_count": 6,
   "metadata": {},
   "outputs": [],
   "source": [
    "\n",
    "PATH2 = \"data/rgb1/\"\n",
    "PATH3 = \"data/LOW/\"\n",
    "Copy_to_path2=\"data/tuberculosis/\"\n",
    "j=700\n",
    "\n",
    "for filename in os.listdir(PATH2):\n",
    "    img = Image.open(os.path.join(PATH2, filename)) # images are color images\n",
    "    j+=1\n",
    "    tuber=\"tuberculosis\"\n",
    "    img.save(Copy_to_path2+tuber+str(j)+'.png') \n",
    "\n",
    "for filename in os.listdir(PATH3):\n",
    "    img1 = Image.open(os.path.join(PATH3, filename)) # images \n",
    "    img1.convert('L')\n",
    "    j+=1\n",
    "    tuber=\"tuberculosis\"\n",
    "    img1.save(Copy_to_path2+tuber+str(j)+'.png') \n"
   ]
  },
  {
   "cell_type": "markdown",
   "metadata": {},
   "source": [
    "after saving new datasets now we have 1400 tuberculosis datasets and now its close to number of datasets of the other class"
   ]
  },
  {
   "cell_type": "code",
   "execution_count": 2,
   "metadata": {},
   "outputs": [
    {
     "data": {
      "text/plain": [
       "1400"
      ]
     },
     "execution_count": 2,
     "metadata": {},
     "output_type": "execute_result"
    }
   ],
   "source": [
    "len(os.listdir(\"data/Tuberculosis\"))\n"
   ]
  }
 ],
 "metadata": {
  "kernelspec": {
   "display_name": "Python 3",
   "language": "python",
   "name": "python3"
  },
  "language_info": {
   "codemirror_mode": {
    "name": "ipython",
    "version": 3
   },
   "file_extension": ".py",
   "mimetype": "text/x-python",
   "name": "python",
   "nbconvert_exporter": "python",
   "pygments_lexer": "ipython3",
   "version": "3.8.3"
  }
 },
 "nbformat": 4,
 "nbformat_minor": 4
}
